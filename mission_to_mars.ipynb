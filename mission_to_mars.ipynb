{
 "cells": [
  {
   "cell_type": "code",
   "execution_count": 5,
   "metadata": {},
   "outputs": [],
   "source": [
    "from bs4 import BeautifulSoup as bs\n",
    "from splinter import Browser\n",
    "import pandas as pd\n",
    "import requests\n",
    "import time\n"
   ]
  },
  {
   "cell_type": "code",
   "execution_count": 6,
   "metadata": {},
   "outputs": [],
   "source": [
    "html = requests.get('https://mars.nasa.gov/news/')\n",
    "soup = bs(html.text,'html.parser')\n",
    "\n",
    "nasa_news = soup.find('div', class_='content_title').text.strip('\\n')\n",
    "nasa_article = soup.find('div', class_='rollover_description_inner').text.strip('\\n')"
   ]
  },
  {
   "cell_type": "code",
   "execution_count": null,
   "metadata": {},
   "outputs": [],
   "source": []
  },
  {
   "cell_type": "code",
   "execution_count": 58,
   "metadata": {},
   "outputs": [
    {
     "data": {
      "text/plain": [
       "'https://www.jpl.nasa.gov/spaceimages/images/largesize/PIA14924_hires.jpg'"
      ]
     },
     "execution_count": 58,
     "metadata": {},
     "output_type": "execute_result"
    }
   ],
   "source": [
    "browser = Browser('chrome')\n",
    "browser.visit('https://www.jpl.nasa.gov/spaceimages/?search=&category=Mars')\n",
    "time.sleep(1)\n",
    "\n",
    "browser.find_by_id('full_image').click()\n",
    "time.sleep(1)\n",
    "browser.find_by_css('.button')[2].click()\n",
    "html = requests.get(browser.url)\n",
    "soup = bs(html.text,'html.parser')\n",
    "result = soup.find('img', class_='main_image')['src']\n",
    "featured_img_url = \"https://www.jpl.nasa.gov\" + result\n",
    "\n",
    "browser.quit()"
   ]
  },
  {
   "cell_type": "code",
   "execution_count": null,
   "metadata": {},
   "outputs": [],
   "source": []
  },
  {
   "cell_type": "code",
   "execution_count": 4,
   "metadata": {},
   "outputs": [],
   "source": [
    "html = requests.get('https://twitter.com/marswxreport?lang=en')\n",
    "soup = bs(html.text, 'html.parser')"
   ]
  },
  {
   "cell_type": "code",
   "execution_count": 5,
   "metadata": {},
   "outputs": [],
   "source": [
    "import re\n",
    "\n",
    "mars_tweet = []\n",
    "\n",
    "tweets = soup.find_all('div', {'class':'tweet'})\n",
    "for tweet in tweets:\n",
    "    context = tweet.find('div',{'class':'context'}).text.replace(\"\\n\",\" \").strip()\n",
    "    content = tweet.find('div',{'class':'content'})\n",
    "    header = content.find('div',{'class':'stream-item-header'})\n",
    "    user = header.find('a',{'class':'account-group js-account-group js-action-profile js-user-profile-link js-nav'}).text.replace(\"\\n\",\" \").strip()     \n",
    "    time = header.find('a',{'class':'tweet-timestamp js-permalink js-nav js-tooltip'}).find('span').text.replace(\"\\n\",\" \").strip()\n",
    "    message = content.find('div',{'class':'js-tweet-text-container'}).text.replace(\"\\n\",\" \").strip()\n",
    "    \n",
    "    match = re.search('InSight', message)\n",
    "    if match:\n",
    "         mars_tweet.append(message)\n",
    "\n",
    "mars_weather_tweet = mars_tweet[0] "
   ]
  },
  {
   "cell_type": "markdown",
   "metadata": {},
   "source": []
  },
  {
   "cell_type": "code",
   "execution_count": 6,
   "metadata": {},
   "outputs": [],
   "source": [
    " # I did this as a practice to possibly use for the upcoming project\n",
    "\n",
    "# if tweets:\n",
    "#   for tweet in tweets:\n",
    "#     tweet_results = {}\n",
    "#     context = tweet.find('div',{'class':'context'}).text.replace(\"\\n\",\" \").strip()\n",
    "#     content = tweet.find('div',{'class':'content'})\n",
    "#     header = content.find('div',{'class':'stream-item-header'})\n",
    "#     user = header.find('a',{'class':'account-group js-account-group js-action-profile js-user-profile-link js-nav'}).text.replace(\"\\n\",\" \").strip()\n",
    "#     time = header.find('a',{'class':'tweet-timestamp js-permalink js-nav js-tooltip'}).find('span').text.replace(\"\\n\",\" \").strip()\n",
    "#     message = content.find('div',{'class':'js-tweet-text-container'}).text.replace(\"\\n\",\" \").strip()\n",
    "#     footer = content.find('div',{'class':'stream-item-footer'})\n",
    "#     stat = footer.find('div',{'class':'ProfileTweet-actionCountList u-hiddenVisually'}).text.replace(\"\\n\",\" \").strip()\n",
    "#     if context:\n",
    "#       print(context)\n",
    "#     print(user,time)\n",
    "#     print(message)\n",
    "#     print(stat)\n",
    "#     print()\n",
    "# else:\n",
    "#     print(\"List is empty/account name not found.\")\n",
    "    \n",
    "# tweet_results = {}"
   ]
  },
  {
   "cell_type": "code",
   "execution_count": null,
   "metadata": {},
   "outputs": [],
   "source": []
  },
  {
   "cell_type": "code",
   "execution_count": 7,
   "metadata": {},
   "outputs": [],
   "source": [
    "df = pd.read_html('https://space-facts.com/venus/')\n",
    "\n",
    "mars_table = df[0].to_html()"
   ]
  },
  {
   "cell_type": "code",
   "execution_count": null,
   "metadata": {},
   "outputs": [],
   "source": []
  },
  {
   "cell_type": "code",
   "execution_count": 8,
   "metadata": {},
   "outputs": [],
   "source": [
    "html_list = ['https://astrogeology.usgs.gov/search/map/Mars/Viking/cerberus_enhanced',\n",
    "             'https://astrogeology.usgs.gov/search/map/Mars/Viking/schiaparelli_enhanced',\n",
    "             'https://astrogeology.usgs.gov/search/map/Mars/Viking/syrtis_major_enhanced',\n",
    "             'https://astrogeology.usgs.gov/search/map/Mars/Viking/valles_marineris_enhanced']\n",
    "             \n",
    "mars_hemisphere_image_urls = []\n",
    "mars_hemisphere_image_urls.clear()"
   ]
  },
  {
   "cell_type": "code",
   "execution_count": 9,
   "metadata": {},
   "outputs": [],
   "source": [
    "for html in html_list:\n",
    "    response = requests.get(html)\n",
    "    soup = bs(response.text, 'html.parser')\n",
    "    \n",
    "    title_result = soup.find('h2', class_='title').text\n",
    "    pic_result = 'https://astrogeology.usgs.gov' + soup.find('img',class_='wide-image')['src']\n",
    "    pic_dict = {'title': title_result, 'img_url': pic_result}\n",
    "    mars_hemisphere_image_urls.append(pic_dict)"
   ]
  },
  {
   "cell_type": "code",
   "execution_count": 10,
   "metadata": {},
   "outputs": [
    {
     "data": {
      "text/plain": [
       "[{'title': 'Cerberus Hemisphere Enhanced',\n",
       "  'img_url': 'https://astrogeology.usgs.gov/cache/images/cfa62af2557222a02478f1fcd781d445_cerberus_enhanced.tif_full.jpg'},\n",
       " {'title': 'Schiaparelli Hemisphere Enhanced',\n",
       "  'img_url': 'https://astrogeology.usgs.gov/cache/images/3cdd1cbf5e0813bba925c9030d13b62e_schiaparelli_enhanced.tif_full.jpg'},\n",
       " {'title': 'Syrtis Major Hemisphere Enhanced',\n",
       "  'img_url': 'https://astrogeology.usgs.gov/cache/images/ae209b4e408bb6c3e67b6af38168cf28_syrtis_major_enhanced.tif_full.jpg'},\n",
       " {'title': 'Valles Marineris Hemisphere Enhanced',\n",
       "  'img_url': 'https://astrogeology.usgs.gov/cache/images/7cf2da4bf549ed01c17f206327be4db7_valles_marineris_enhanced.tif_full.jpg'}]"
      ]
     },
     "execution_count": 10,
     "metadata": {},
     "output_type": "execute_result"
    }
   ],
   "source": [
    "mars_hemisphere_image_urls"
   ]
  },
  {
   "cell_type": "code",
   "execution_count": 11,
   "metadata": {},
   "outputs": [],
   "source": [
    "mars_facts = {'nasa_news': nasa_news,\n",
    "             'nasa_article': nasa_article,\n",
    "             'featured_img_url': featured_img_url,\n",
    "             'mars_weather_tweet': mars_weather_tweet,\n",
    "             'mars_tabel': mars_table,\n",
    "             'mars_hemisphere_image_urls': mars_hemisphere_image_urls}"
   ]
  },
  {
   "cell_type": "code",
   "execution_count": 12,
   "metadata": {},
   "outputs": [
    {
     "data": {
      "text/plain": [
       "'Schiaparelli Hemisphere Enhanced'"
      ]
     },
     "execution_count": 12,
     "metadata": {},
     "output_type": "execute_result"
    }
   ],
   "source": [
    "mars_facts['mars_hemisphere_image_urls'][1]['title']"
   ]
  },
  {
   "cell_type": "code",
   "execution_count": null,
   "metadata": {},
   "outputs": [],
   "source": []
  }
 ],
 "metadata": {
  "kernelspec": {
   "display_name": "PythonData",
   "language": "python",
   "name": "pythondata"
  },
  "language_info": {
   "codemirror_mode": {
    "name": "ipython",
    "version": 3
   },
   "file_extension": ".py",
   "mimetype": "text/x-python",
   "name": "python",
   "nbconvert_exporter": "python",
   "pygments_lexer": "ipython3",
   "version": "3.7.6"
  }
 },
 "nbformat": 4,
 "nbformat_minor": 4
}
