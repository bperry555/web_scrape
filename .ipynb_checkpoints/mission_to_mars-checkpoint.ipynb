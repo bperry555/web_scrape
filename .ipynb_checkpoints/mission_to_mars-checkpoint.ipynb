{
 "cells": [
  {
   "cell_type": "code",
   "execution_count": 1,
   "metadata": {},
   "outputs": [],
   "source": [
    "from bs4 import BeautifulSoup as bs\n",
    "from splinter import Browser\n",
    "import pandas as pd\n",
    "import requests\n",
    "import time"
   ]
  },
  {
   "cell_type": "code",
   "execution_count": 2,
   "metadata": {},
   "outputs": [],
   "source": [
    "html = requests.get('https://mars.nasa.gov/news/')"
   ]
  },
  {
   "cell_type": "code",
   "execution_count": 3,
   "metadata": {},
   "outputs": [],
   "source": [
    "soup = bs(html.text,'html.parser')"
   ]
  },
  {
   "cell_type": "code",
   "execution_count": 4,
   "metadata": {},
   "outputs": [],
   "source": [
    "nasa_headline = []\n",
    "nasa_text = []"
   ]
  },
  {
   "cell_type": "code",
   "execution_count": 5,
   "metadata": {},
   "outputs": [],
   "source": [
    "for headline in soup.find_all('div', class_='content_title'):\n",
    "     nasa_headline.append(headline.get_text(strip=True))"
   ]
  },
  {
   "cell_type": "code",
   "execution_count": 6,
   "metadata": {},
   "outputs": [],
   "source": [
    "for text in soup.find_all('div', class_='rollover_description_inner'):\n",
    "    nasa_text.append(text.get_text(strip=True))"
   ]
  },
  {
   "cell_type": "code",
   "execution_count": 10,
   "metadata": {},
   "outputs": [
    {
     "data": {
      "text/plain": [
       "{\"10.9 Million Names Now Aboard NASA's Perseverance Mars Rover\": \"As part of NASA's 'Send Your Name to Mars' campaign, they've been stenciled onto three microchips along with essays from NASA's 'Name the Rover' contest. Next stop: Mars.\",\n",
       " \"Virginia Middle School Student Earns Honor of Naming NASA's Next Mars Rover\": 'NASA chose a seventh-grader from Virginia as winner of the agency\\'s \"Name the Rover\" essay contest. Alexander Mather\\'s entry for \"Perseverance\" was voted tops among 28,000 entries.',\n",
       " 'NASA Prepares for Moon and Mars With New Addition to Its Deep Space Network': 'Robotic spacecraft will be able to communicate with the dish using radio waves and lasers.',\n",
       " 'NASA Administrator Statement on Moon to Mars Initiative, FY 2021 Budget': \"Jim Bridenstine addresses NASA's ambitious plans for the coming years, including Mars Sample Return.\",\n",
       " \"NASA's Mars 2020 Rover Closer to Getting Its Name\": \"155 students from across the U.S. have been chosen as semifinalists in NASA's essay contest to name the Mars 2020 rover, and see it launch from Cape Canaveral this July.\",\n",
       " 'NASA Invites Students to Name Mars 2020 Rover': \"Through Nov. 1, K-12 students in the U.S. are encouraged to enter an essay contest to name NASA's next Mars rover.\"}"
      ]
     },
     "execution_count": 10,
     "metadata": {},
     "output_type": "execute_result"
    }
   ],
   "source": [
    "nasa_news = dict(zip(nasa_headline, nasa_text))"
   ]
  },
  {
   "cell_type": "code",
   "execution_count": 15,
   "metadata": {},
   "outputs": [],
   "source": [
    "executable_path = {'executable_path': '/'}\n",
    "browser = Browser('chrome')"
   ]
  },
  {
   "cell_type": "code",
   "execution_count": 16,
   "metadata": {},
   "outputs": [],
   "source": [
    "browser.visit('https://www.jpl.nasa.gov/spaceimages/?search=&category=Mars')\n",
    "soup = bs(browser.html, 'html.parser')"
   ]
  },
  {
   "cell_type": "code",
   "execution_count": 17,
   "metadata": {},
   "outputs": [],
   "source": [
    "result = soup.find('article')['style']\n",
    "full_featured_img = \"https://www.jpl.nasa.gov\" + result.split(' ')[1].strip(\"url('');\")\n",
    "\n",
    "browser.quit()\n",
    "featured_img = {'Feature Image': full_featured_img}"
   ]
  },
  {
   "cell_type": "code",
   "execution_count": 30,
   "metadata": {},
   "outputs": [],
   "source": [
    "html = requests.get('https://twitter.com/marswxreport?lang=en')\n",
    "soup = bs(html.text, 'html.parser')"
   ]
  },
  {
   "cell_type": "code",
   "execution_count": 122,
   "metadata": {},
   "outputs": [
    {
     "name": "stdout",
     "output_type": "stream",
     "text": [
      "['InSight sol 457 (2020-03-10) low -95.7ºC (-140.3ºF) high -9.1ºC (15.6ºF) winds from the SSE at 6.5 m/s (14.5 mph) gusting to 21.0 m/s (46.9 mph) pressure at 6.30 hPapic.twitter.com/2h0LKoSQrJ', 'InSight sol 456 (2020-03-08) low -94.6ºC (-138.3ºF) high -9.6ºC (14.7ºF) winds from the SSE at 5.8 m/s (12.9 mph) gusting to 20.2 m/s (45.2 mph) pressure at 6.30 hPa', 'InSight sol 455 (2020-03-08) low -95.4ºC (-139.8ºF) high -13.0ºC (8.5ºF) winds from the SSE at 6.0 m/s (13.5 mph) gusting to 20.7 m/s (46.2 mph) pressure at 6.40 hPapic.twitter.com/HrRcPTpSEQ', 'InSight sol 454 (2020-03-06) low -96.0ºC (-140.8ºF) high -12.7ºC (9.1ºF) winds from the SSE at 5.8 m/s (12.9 mph) gusting to 25.2 m/s (56.4 mph) pressure at 6.30 hPapic.twitter.com/SW2gBfJY3o', 'InSight sol 453 (2020-03-05) low -95.1ºC (-139.1ºF) high -10.8ºC (12.6ºF) winds from the SSW at 6.0 m/s (13.3 mph) gusting to 21.4 m/s (47.9 mph) pressure at 6.30 hPapic.twitter.com/8nEk9RxzXk', 'InSight sol 452 (2020-03-05) low -94.2ºC (-137.7ºF) high -9.2ºC (15.4ºF) winds from the SSW at 6.5 m/s (14.5 mph) gusting to 19.6 m/s (43.9 mph) pressure at 6.30 hPapic.twitter.com/oCMblxEv6O', 'InSight sol 451 (2020-03-03) low -93.6ºC (-136.4ºF) high -10.3ºC (13.4ºF) winds from the SSE at 6.3 m/s (14.2 mph) gusting to 19.9 m/s (44.5 mph) pressure at 6.30 hPapic.twitter.com/s9U5e7aC8b', 'InSight sol 450 (2020-03-02) low -93.5ºC (-136.4ºF) high -10.4ºC (13.3ºF) winds from the SSW at 5.5 m/s (12.4 mph) gusting to 20.6 m/s (46.1 mph) pressure at 6.30 hPapic.twitter.com/82lzRqibcC']\n"
     ]
    }
   ],
   "source": [
    "import re\n",
    "\n",
    "mars_weather = []\n",
    "tweets = soup.find_all('div', {'class':'tweet'})\n",
    "for tweet in tweets:\n",
    "    context = tweet.find('div',{'class':'context'}).text.replace(\"\\n\",\" \").strip()\n",
    "    content = tweet.find('div',{'class':'content'})\n",
    "    header = content.find('div',{'class':'stream-item-header'})\n",
    "    user = header.find('a',{'class':'account-group js-account-group js-action-profile js-user-profile-link js-nav'}).text.replace(\"\\n\",\" \").strip()     \n",
    "    time = header.find('a',{'class':'tweet-timestamp js-permalink js-nav js-tooltip'}).find('span').text.replace(\"\\n\",\" \").strip()\n",
    "    message = content.find('div',{'class':'js-tweet-text-container'}).text.replace(\"\\n\",\" \").strip()\n",
    "    \n",
    "    match = re.search('InSight', message)\n",
    "    if match:\n",
    "         mars_weather.append(message)\n",
    "\n",
    "# footer = content.find('div',{'class':'stream-item-footer'})\n",
    "# stat = footer.find('div',{'class':'ProfileTweet-actionCountList u-hiddenVisually'}).text.replace(\"\\n\",\" \").strip()"
   ]
  },
  {
   "cell_type": "code",
   "execution_count": 54,
   "metadata": {},
   "outputs": [
    {
     "name": "stdout",
     "output_type": "stream",
     "text": [
      "Mars Weather‏ @MarsWxReport Mar 26\n",
      "If you submitted your name, it’s aboard the Perseverance Mars Rover nowhttps://mars.nasa.gov/news/8634/109-million-names-now-aboard-nasas-perseverance-mars-rover …\n",
      "1 reply     5 retweets     24 likes\n",
      "\n",
      "Mars Weather‏ @MarsWxReport Mar 20\n",
      "Fred Calef (@cirquelar) keeper of the Martian maps talks other worldly cartography on the latest episode of the @TWIScience podcasthttps://www.twis.org/18-april-2020-episode-765-who-has-the-mars-maps/ …\n",
      "1 reply     4 retweets     10 likes\n",
      "\n",
      "Mars Weather Retweeted\n",
      "Tony Rice‏Verified account @rtphokie Mar 20\n",
      "Y’all sing Happy Birthday or Sweet Caroline, I’m doing this, in George Diller’s voicepic.twitter.com/rLQOcLKHNy\n",
      "2 replies     7 retweets     19 likes\n",
      "\n",
      "Mars Weather Retweeted\n",
      "NASA Earth‏Verified account @NASAEarth Mar 19\n",
      "T-34 days until #EarthDay50 It’s the #FirstDayOfSpring  in the Northern Hemisphere and for some, that means planting season. Tools originally designed for space can help farmers grow crops  here on Earth.  https://go.nasa.gov/2U0dXBk pic.twitter.com/9KCQ5RzN5A\n",
      "5 replies     32 retweets     159 likes\n",
      "\n",
      "Mars Weather Retweeted\n",
      "Paul 'Social Distancing' Byrne‏ @ThePlanetaryGuy Mar 17\n",
      "Happy #StPatricksDay!  To celebrate, here's an image of Olympus Mons on #Mars—a volcano so big that, if you drove the equivalent distance from Malin Head to Mizen Head in Ireland, you'd *still* be on that damned volcano.pic.twitter.com/4BB13WBBiq\n",
      "3 replies     37 retweets     117 likes\n",
      "\n",
      "Mars Weather Retweeted\n",
      "Tony Rice‏Verified account @rtphokie Mar 14\n",
      "While the Smithsonian is closed, we can peruse the National @airandspace Museum's online collection,  Here's one of my favorites: https://airandspace.si.edu/collections/ pic.twitter.com/h9T5dcBSrx\n",
      "0 replies     3 retweets     6 likes\n",
      "\n",
      "Mars Weather Retweeted\n",
      "NASA InSight‏Verified account @NASAInSight Mar 13\n",
      "A bit of good news from #Mars: our new approach of using the robotic arm to push the mole appears to be working! The teams @NASAJPL/@DLR_en are excited to see the images and plan to continue this approach over the next few weeks.  #SaveTheMole    FAQ: http://go.nasa.gov/HP3FAQ pic.twitter.com/5wYyn7IwVo\n",
      "192 replies     1,190 retweets     7,328 likes\n",
      "\n",
      "Mars Weather‏ @MarsWxReport Mar 10\n",
      "InSight sol 457 (2020-03-10) low -95.7ºC (-140.3ºF) high -9.1ºC (15.6ºF) winds from the SSE at 6.5 m/s (14.5 mph) gusting to 21.0 m/s (46.9 mph) pressure at 6.30 hPapic.twitter.com/2h0LKoSQrJ\n",
      "1 reply     7 retweets     24 likes\n",
      "\n",
      "Mars Weather‏ @MarsWxReport Mar 10\n",
      "InSight sol 456 (2020-03-08) low -94.6ºC (-138.3ºF) high -9.6ºC (14.7ºF) winds from the SSE at 5.8 m/s (12.9 mph) gusting to 20.2 m/s (45.2 mph) pressure at 6.30 hPa\n",
      "0 replies     4 retweets     16 likes\n",
      "\n",
      "Mars Weather Retweeted\n",
      "Paul 'Social Distancing' Byrne‏ @ThePlanetaryGuy Mar 10\n",
      "Yep, this has been white balanced to closer match what we'd see on Earth. In reality, our eyes would see a redder hue to everything. Here's an example of what unprocessed, \"natural\", and \"balanced\" colours look like:pic.twitter.com/FOBKIQkDkw\n",
      "2 replies     36 retweets     151 likes\n",
      "\n",
      "Mars Weather‏ @MarsWxReport Mar 8\n",
      "InSight sol 455 (2020-03-08) low -95.4ºC (-139.8ºF) high -13.0ºC (8.5ºF) winds from the SSE at 6.0 m/s (13.5 mph) gusting to 20.7 m/s (46.2 mph) pressure at 6.40 hPapic.twitter.com/HrRcPTpSEQ\n",
      "1 reply     5 retweets     17 likes\n",
      "\n",
      "Mars Weather‏ @MarsWxReport Mar 7\n",
      "InSight sol 454 (2020-03-06) low -96.0ºC (-140.8ºF) high -12.7ºC (9.1ºF) winds from the SSE at 5.8 m/s (12.9 mph) gusting to 25.2 m/s (56.4 mph) pressure at 6.30 hPapic.twitter.com/SW2gBfJY3o\n",
      "0 replies     7 retweets     31 likes\n",
      "\n",
      "Mars Weather‏ @MarsWxReport Mar 6\n",
      "InSight sol 453 (2020-03-05) low -95.1ºC (-139.1ºF) high -10.8ºC (12.6ºF) winds from the SSW at 6.0 m/s (13.3 mph) gusting to 21.4 m/s (47.9 mph) pressure at 6.30 hPapic.twitter.com/8nEk9RxzXk\n",
      "0 replies     5 retweets     25 likes\n",
      "\n",
      "Mars Weather Retweeted\n",
      "Tony Rice‏Verified account @rtphokie Mar 5\n",
      "Congrats to 7th grader Alex Mather of Springfield, Virginia on the winning name, Perseverance and essay in the 2020 Mars Rover contest.pic.twitter.com/8I7pTLopta\n",
      "0 replies     6 retweets     11 likes\n",
      "\n",
      "Mars Weather‏ @MarsWxReport Mar 5\n",
      "Hi, I’m the rover formerly known as Mars 2020, please call me Perseverance, I’ll be heading to Mars in July with 7 instruments (including updated weather instruments) and 23 cameras.pic.twitter.com/XDx5s0cI5t\n",
      "1 reply     28 retweets     70 likes\n",
      "\n",
      "Mars Weather‏ @MarsWxReport Mar 5\n",
      "InSight sol 452 (2020-03-05) low -94.2ºC (-137.7ºF) high -9.2ºC (15.4ºF) winds from the SSW at 6.5 m/s (14.5 mph) gusting to 19.6 m/s (43.9 mph) pressure at 6.30 hPapic.twitter.com/oCMblxEv6O\n",
      "0 replies     6 retweets     20 likes\n",
      "\n",
      "Mars Weather‏ @MarsWxReport Mar 4\n",
      "Tour of the 1.8 Billion-Pixel Panoramic photo taken by the Curiosity Roverhttps://www.youtube.com/watch?v=X2UaFuJsqxk …\n",
      "0 replies     7 retweets     16 likes\n",
      "\n",
      "Mars Weather‏ @MarsWxReport Mar 4\n",
      "InSight sol 451 (2020-03-03) low -93.6ºC (-136.4ºF) high -10.3ºC (13.4ºF) winds from the SSE at 6.3 m/s (14.2 mph) gusting to 19.9 m/s (44.5 mph) pressure at 6.30 hPapic.twitter.com/s9U5e7aC8b\n",
      "0 replies     4 retweets     12 likes\n",
      "\n",
      "Mars Weather‏ @MarsWxReport Mar 3\n",
      "InSight sol 450 (2020-03-02) low -93.5ºC (-136.4ºF) high -10.4ºC (13.3ºF) winds from the SSW at 5.5 m/s (12.4 mph) gusting to 20.6 m/s (46.1 mph) pressure at 6.30 hPapic.twitter.com/82lzRqibcC\n",
      "0 replies     4 retweets     11 likes\n",
      "\n",
      "Mars Weather‏ @MarsWxReport Mar 2\n",
      "360 Sol 2687 selfiehttps://roundme.com/tour/550044/view?welcome …\n",
      "0 replies     12 retweets     29 likes\n",
      "\n"
     ]
    }
   ],
   "source": [
    " # I did this as a practice to possibly use for the upcoming project\n",
    "\n",
    "# if tweets:\n",
    "#   for tweet in tweets:\n",
    "#     tweet_results = {}\n",
    "#     context = tweet.find('div',{'class':'context'}).text.replace(\"\\n\",\" \").strip()\n",
    "#     content = tweet.find('div',{'class':'content'})\n",
    "#     header = content.find('div',{'class':'stream-item-header'})\n",
    "#     user = header.find('a',{'class':'account-group js-account-group js-action-profile js-user-profile-link js-nav'}).text.replace(\"\\n\",\" \").strip()\n",
    "#     time = header.find('a',{'class':'tweet-timestamp js-permalink js-nav js-tooltip'}).find('span').text.replace(\"\\n\",\" \").strip()\n",
    "#     message = content.find('div',{'class':'js-tweet-text-container'}).text.replace(\"\\n\",\" \").strip()\n",
    "#     footer = content.find('div',{'class':'stream-item-footer'})\n",
    "#     stat = footer.find('div',{'class':'ProfileTweet-actionCountList u-hiddenVisually'}).text.replace(\"\\n\",\" \").strip()\n",
    "#     if context:\n",
    "#       print(context)\n",
    "#     print(user,time)\n",
    "#     print(message)\n",
    "#     print(stat)\n",
    "#     print()\n",
    "# else:\n",
    "#     print(\"List is empty/account name not found.\")\n",
    "    \n",
    "# tweet_results = {}"
   ]
  },
  {
   "cell_type": "code",
   "execution_count": null,
   "metadata": {},
   "outputs": [],
   "source": []
  },
  {
   "cell_type": "code",
   "execution_count": 24,
   "metadata": {},
   "outputs": [],
   "source": [
    "df = pd.read_html('https://space-facts.com/venus/')\n",
    "\n",
    "mars_table = {'table': df[0].to_html()}"
   ]
  },
  {
   "cell_type": "code",
   "execution_count": null,
   "metadata": {},
   "outputs": [],
   "source": []
  },
  {
   "cell_type": "code",
   "execution_count": 27,
   "metadata": {},
   "outputs": [],
   "source": [
    "html_list = ['https://astrogeology.usgs.gov/search/map/Mars/Viking/cerberus_enhanced',\n",
    "             'https://astrogeology.usgs.gov/search/map/Mars/Viking/schiaparelli_enhanced',\n",
    "             'https://astrogeology.usgs.gov/search/map/Mars/Viking/syrtis_major_enhanced',\n",
    "             'https://astrogeology.usgs.gov/search/map/Mars/Viking/valles_marineris_enhanced']\n",
    "             \n",
    "hemisphere_image_urls = []\n",
    "hem_dict = {}"
   ]
  },
  {
   "cell_type": "code",
   "execution_count": 28,
   "metadata": {},
   "outputs": [
    {
     "name": "stdout",
     "output_type": "stream",
     "text": [
      "{'pic_title': 'Cerberus Hemisphere Enhanced'} {'pic_html': 'http://astropedia.astrogeology.usgs.gov/download/Mars/Viking/cerberus_enhanced.tif'}\n",
      "{'pic_title': 'Schiaparelli Hemisphere Enhanced'} {'pic_html': 'http://astropedia.astrogeology.usgs.gov/download/Mars/Viking/schiaparelli_enhanced.tif'}\n",
      "{'pic_title': 'Syrtis Major Hemisphere Enhanced'} {'pic_html': 'http://astropedia.astrogeology.usgs.gov/download/Mars/Viking/syrtis_major_enhanced.tif'}\n",
      "{'pic_title': 'Valles Marineris Hemisphere Enhanced'} {'pic_html': 'http://astropedia.astrogeology.usgs.gov/download/Mars/Viking/valles_marineris_enhanced.tif'}\n"
     ]
    }
   ],
   "source": [
    "for html in html_list:\n",
    "    response = requests.get(html)\n",
    "    soup = bs(response.text, 'html.parser')\n",
    "    title_result = soup.find('h2', class_='title').text\n",
    "    pic_result = str(soup.find('a',text='Original')).split()[1].lstrip('href=').strip('\"\"')\n",
    "    pict_title = {'pic_title': title_result}\n",
    "    pict_html = {'pic_html': pic_result}\n",
    "    print(pict_title, pict_html)"
   ]
  },
  {
   "cell_type": "code",
   "execution_count": null,
   "metadata": {},
   "outputs": [],
   "source": []
  }
 ],
 "metadata": {
  "kernelspec": {
   "display_name": "Python 3.7.6 64-bit ('PythonData': conda)",
   "language": "python",
   "name": "python37664bitpythondataconda4b2e8bfa77ee40e39f2d30bad1f48b7a"
  },
  "language_info": {
   "codemirror_mode": {
    "name": "ipython",
    "version": 3
   },
   "file_extension": ".py",
   "mimetype": "text/x-python",
   "name": "python",
   "nbconvert_exporter": "python",
   "pygments_lexer": "ipython3",
   "version": "3.7.6"
  }
 },
 "nbformat": 4,
 "nbformat_minor": 4
}
